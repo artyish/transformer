{
 "cells": [
  {
   "cell_type": "code",
   "execution_count": 17,
   "id": "9c187034-9615-4829-be18-04ec1045351b",
   "metadata": {},
   "outputs": [],
   "source": [
    "import tensorflow as tf"
   ]
  },
  {
   "cell_type": "code",
   "execution_count": 3,
   "id": "cbbaca99-891d-49a4-8647-f9b3767784c2",
   "metadata": {},
   "outputs": [],
   "source": [
    "text = \"\"\"\n",
    "Once upon a time, in a land full of trees, there was a little cherry tree. The cherry tree was very sad because it did not have any friends. All the other trees were big and strong, but the cherry tree was small and weak. The cherry tree was envious of the big trees.\n",
    "\n",
    "One day, the cherry tree felt a tickle in its branches. It was a little spring wind. The wind told the cherry tree not to be sad. The wind said, \"You are special because you have sweet cherries that everyone loves.\" The cherry tree started to feel a little better.\n",
    "\n",
    "As time went on, the cherry tree grew more and more cherries. All the animals in the land came to eat the cherries and play under the cherry tree. The cherry tree was happy because it had many friends now. The cherry tree learned that being different can be a good thing. And they all lived happily ever after.\n",
    "\"\"\""
   ]
  },
  {
   "cell_type": "markdown",
   "id": "7e77bd29-bd76-4e26-9394-14c09ac155e0",
   "metadata": {},
   "source": [
    "Making Vocabulary"
   ]
  },
  {
   "cell_type": "code",
   "execution_count": 10,
   "id": "4614654a-83b4-400f-8a63-aeb4c62d0314",
   "metadata": {},
   "outputs": [],
   "source": [
    "vocab_dictionary = {}\n",
    "vocab_dictionary.update({\n",
    "  \"<PAD>\": 0,  \n",
    "  \"<UNK>\": 1,\n",
    "  \"<EOS>\": 2\n",
    "})"
   ]
  },
  {
   "cell_type": "code",
   "execution_count": 11,
   "id": "8a8e4259-37f4-419c-b89e-a6bc68e8aa63",
   "metadata": {},
   "outputs": [],
   "source": [
    "input_num = 3\n",
    "for word in text.split():\n",
    "    if word in vocab_dictionary:\n",
    "        continue\n",
    "\n",
    "    vocab_dictionary.update({word : input_num})\n",
    "    input_num += 1"
   ]
  },
  {
   "cell_type": "code",
   "execution_count": 16,
   "id": "f63675e6-07b3-4fc9-a263-17e42e30c8a7",
   "metadata": {},
   "outputs": [
    {
     "name": "stdout",
     "output_type": "stream",
     "text": [
      "{'<PAD>': 0, '<UNK>': 1, '<EOS>': 2, 'Once': 3, 'upon': 4}\n",
      "{'all': 93, 'lived': 94, 'happily': 95, 'ever': 96, 'after.': 97}\n"
     ]
    }
   ],
   "source": [
    "check_result = dict(list(vocab_dictionary.items())[:5])\n",
    "print(check_result)\n",
    "check_result_rev = dict(list(vocab_dictionary.items())[-5:])\n",
    "print(check_result_rev)"
   ]
  },
  {
   "cell_type": "code",
   "execution_count": 19,
   "id": "c16147b0-f629-49e8-9885-6731bb968394",
   "metadata": {},
   "outputs": [
    {
     "name": "stdout",
     "output_type": "stream",
     "text": [
      "98\n"
     ]
    }
   ],
   "source": [
    "length = len(vocab_dictionary)\n",
    "print(length)"
   ]
  },
  {
   "cell_type": "markdown",
   "id": "749bb970-fdfd-453b-baaa-933eb9348597",
   "metadata": {},
   "source": [
    "Used Tensorflow for learning Embeddings"
   ]
  },
  {
   "cell_type": "code",
   "execution_count": null,
   "id": "118c5dfd-ad8d-4229-810b-a11f04f16ae1",
   "metadata": {},
   "outputs": [],
   "source": [
    "embedding_layer = tf.keras.layers.Embedding(input_dim=length, output_dim=32)"
   ]
  },
  {
   "cell_type": "code",
   "execution_count": null,
   "id": "7f850b88-f0e3-44df-8673-8500485208f7",
   "metadata": {},
   "outputs": [],
   "source": []
  }
 ],
 "metadata": {
  "kernelspec": {
   "display_name": "Python 3 (ipykernel)",
   "language": "python",
   "name": "python3"
  },
  "language_info": {
   "codemirror_mode": {
    "name": "ipython",
    "version": 3
   },
   "file_extension": ".py",
   "mimetype": "text/x-python",
   "name": "python",
   "nbconvert_exporter": "python",
   "pygments_lexer": "ipython3",
   "version": "3.9.23"
  }
 },
 "nbformat": 4,
 "nbformat_minor": 5
}
